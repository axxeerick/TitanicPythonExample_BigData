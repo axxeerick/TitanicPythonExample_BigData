{
  "nbformat": 4,
  "nbformat_minor": 0,
  "metadata": {
    "colab": {
      "name": "TitanicPython_1.ipynb",
      "provenance": [],
      "collapsed_sections": []
    },
    "kernelspec": {
      "name": "python3",
      "display_name": "Python 3"
    }
  },
  "cells": [
    {
      "cell_type": "code",
      "metadata": {
        "id": "Ktwo80Ic8u15",
        "colab_type": "code",
        "colab": {}
      },
      "source": [
        "#First, load packages\n",
        "import pandas as pd\n"
      ],
      "execution_count": 0,
      "outputs": []
    },
    {
      "cell_type": "code",
      "metadata": {
        "id": "pfBryxN39A_y",
        "colab_type": "code",
        "colab": {}
      },
      "source": [
        "#Load the data\n",
        "train = pd.read_csv(\"train.csv\")\n",
        "train_shape = train.shape\n",
        "print(train_shape)"
      ],
      "execution_count": 0,
      "outputs": []
    },
    {
      "cell_type": "code",
      "metadata": {
        "id": "hResg7pvdpRj",
        "colab_type": "code",
        "colab": {}
      },
      "source": [
        "#Another way to look at the shape\n",
        "train.shape"
      ],
      "execution_count": 0,
      "outputs": []
    },
    {
      "cell_type": "code",
      "metadata": {
        "id": "N9WVyK_69PUH",
        "colab_type": "code",
        "colab": {}
      },
      "source": [
        "#To look at all the variables for the first 10 observations\n",
        "train.head(10)"
      ],
      "execution_count": 0,
      "outputs": []
    },
    {
      "cell_type": "code",
      "metadata": {
        "id": "GEvEEQ5L9hIo",
        "colab_type": "code",
        "colab": {}
      },
      "source": [
        "##Data exploration 1: Building Tables\n",
        "import matplotlib.pyplot as plt\n",
        "\n",
        "sex_pivot = train.pivot_table(index=\"Sex\",values=\"Survived\")\n",
        "sex_pivot"
      ],
      "execution_count": 0,
      "outputs": []
    },
    {
      "cell_type": "code",
      "metadata": {
        "id": "rX_zymuu9mBB",
        "colab_type": "code",
        "colab": {}
      },
      "source": [
        "##Data exploration 2: Building bar charts\n",
        "pclass_pivot = train.pivot_table(index=\"Pclass\",values=\"Survived\")\n",
        "# pclass_pivot\n",
        "pclass_pivot.plot.bar()\n",
        "plt.show()"
      ],
      "execution_count": 0,
      "outputs": []
    },
    {
      "cell_type": "code",
      "metadata": {
        "id": "zv2XxGUh9rVU",
        "colab_type": "code",
        "colab": {}
      },
      "source": [
        "##Data exploration 3: Descriptive statistics\n",
        "train['Age'].describe()"
      ],
      "execution_count": 0,
      "outputs": []
    },
    {
      "cell_type": "code",
      "metadata": {
        "id": "vmomULptewLe",
        "colab_type": "code",
        "colab": {}
      },
      "source": [
        "##Data exploration 4: counts\n",
        "train['Pclass'].value_counts()"
      ],
      "execution_count": 0,
      "outputs": []
    },
    {
      "cell_type": "code",
      "metadata": {
        "id": "Z4OSCoUQIp9y",
        "colab_type": "code",
        "colab": {}
      },
      "source": [
        "##Creating dummy variables\n",
        "column_name = \"Pclass\"\n",
        "df = train\n",
        "dummies = pd.get_dummies(df[column_name],prefix=column_name)\n",
        "dummies.head()"
      ],
      "execution_count": 0,
      "outputs": []
    },
    {
      "cell_type": "code",
      "metadata": {
        "id": "20DPsGJjIu3A",
        "colab_type": "code",
        "colab": {}
      },
      "source": [
        "##Building a function to create dummy variables\n",
        "def create_dummies(df,column_name):\n",
        "    dummies = pd.get_dummies(df[column_name],prefix=column_name)\n",
        "    df = pd.concat([df,dummies],axis=1)\n",
        "    return df\n",
        "\n",
        "train = create_dummies(train,\"Pclass\")\n",
        "train.head()"
      ],
      "execution_count": 0,
      "outputs": []
    },
    {
      "cell_type": "code",
      "metadata": {
        "id": "wgOBskwEIYD1",
        "colab_type": "code",
        "colab": {}
      },
      "source": [
        "##Building a function and creating categorical variables 1\n",
        "def process_age(df,cut_points,label_names):\n",
        "    df[\"Age\"] = df[\"Age\"].fillna(-0.5)\n",
        "    df[\"Age_categories\"] = pd.cut(df[\"Age\"],cut_points,labels=label_names)\n",
        "    return df\n",
        "\n",
        "cut_points = [-1,0, 5, 12, 18, 35, 60, 100]\n",
        "label_names = [\"Missing\", 'Infant', \"Child\", 'Teenager', \"Young Adult\", 'Adult', 'Senior']\n",
        "\n",
        "train = process_age(train,cut_points,label_names)"
      ],
      "execution_count": 0,
      "outputs": []
    },
    {
      "cell_type": "code",
      "metadata": {
        "id": "zHk8F3NM8FyG",
        "colab_type": "code",
        "colab": {}
      },
      "source": [
        "##Look at the categories you just made\n",
        "age_cat_pivot = train.pivot_table(index=\"Age_categories\",values=\"Survived\")\n",
        "age_cat_pivot.plot.bar()\n",
        "plt.show()"
      ],
      "execution_count": 0,
      "outputs": []
    },
    {
      "cell_type": "code",
      "metadata": {
        "id": "gtIRSy_5I1kP",
        "colab_type": "code",
        "colab": {}
      },
      "source": [
        "##Create dummies using the function you just made\n",
        "train = create_dummies(train,\"Sex\")\n",
        "train = create_dummies(train,\"Age_categories\")"
      ],
      "execution_count": 0,
      "outputs": []
    },
    {
      "cell_type": "code",
      "metadata": {
        "id": "i3drR20ZI4D4",
        "colab_type": "code",
        "colab": {}
      },
      "source": [
        "##Let's see how the data looks now\n",
        "train.head()"
      ],
      "execution_count": 0,
      "outputs": []
    },
    {
      "cell_type": "code",
      "metadata": {
        "id": "yDHzHsyXJAh1",
        "colab_type": "code",
        "colab": {}
      },
      "source": [
        "##package to create machine learning models\n",
        "from sklearn.linear_model import LogisticRegression"
      ],
      "execution_count": 0,
      "outputs": []
    },
    {
      "cell_type": "code",
      "metadata": {
        "id": "SivqhgnNsF_N",
        "colab_type": "code",
        "colab": {}
      },
      "source": [
        "##Create our data sets\n",
        "\n",
        "from sklearn.model_selection import train_test_split\n",
        "\n",
        "columns = ['Pclass_1', 'Pclass_2', 'Pclass_3', 'Sex_female', 'Sex_male',\n",
        "       'Age_categories_Missing','Age_categories_Infant',\n",
        "       'Age_categories_Child', 'Age_categories_Teenager',\n",
        "       'Age_categories_Young Adult', 'Age_categories_Adult',\n",
        "       'Age_categories_Senior']\n",
        "\n",
        "all_X = train[columns]\n",
        "all_y = train['Survived']\n",
        "\n",
        "train_X, test_X, train_y, test_y = train_test_split(\n",
        "    all_X, all_y, test_size=0.2,random_state=0)"
      ],
      "execution_count": 0,
      "outputs": []
    },
    {
      "cell_type": "code",
      "metadata": {
        "id": "Dwq7u__PskNb",
        "colab_type": "code",
        "colab": {}
      },
      "source": [
        "##Fit our regression tree and produce an accuracy score\n",
        "lr = LogisticRegression()\n",
        "lr.fit(train_X, train_y)\n",
        "predictions = lr.predict(test_X)\n",
        "\n",
        "from sklearn.metrics import accuracy_score\n",
        "accuracy = accuracy_score(test_y, predictions)"
      ],
      "execution_count": 0,
      "outputs": []
    },
    {
      "cell_type": "code",
      "metadata": {
        "id": "xpStlBT_syUi",
        "colab_type": "code",
        "colab": {}
      },
      "source": [
        "## How did we do?\n",
        "accuracy"
      ],
      "execution_count": 0,
      "outputs": []
    },
    {
      "cell_type": "code",
      "metadata": {
        "id": "CA2m488Ztk4C",
        "colab_type": "code",
        "colab": {}
      },
      "source": [
        "## Cross validation scores\n",
        "from sklearn.model_selection import cross_val_score\n",
        "import numpy as np\n",
        "\n",
        "lr = LogisticRegression()\n",
        "scores = cross_val_score(lr, all_X, all_y, cv=10)"
      ],
      "execution_count": 0,
      "outputs": []
    },
    {
      "cell_type": "code",
      "metadata": {
        "id": "MRtOzpw5twQy",
        "colab_type": "code",
        "colab": {}
      },
      "source": [
        "## All the scores\n",
        "scores\n"
      ],
      "execution_count": 0,
      "outputs": []
    },
    {
      "cell_type": "code",
      "metadata": {
        "id": "XRnCgNLK4j70",
        "colab_type": "code",
        "colab": {}
      },
      "source": [
        "## This will be the final value we use to test with\n",
        "\n",
        "np.mean(scores)"
      ],
      "execution_count": 0,
      "outputs": []
    }
  ]
}